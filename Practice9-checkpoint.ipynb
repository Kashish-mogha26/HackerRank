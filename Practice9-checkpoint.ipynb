{
 "cells": [
  {
   "cell_type": "markdown",
   "metadata": {},
   "source": [
    "# Collecting Candies:"
   ]
  },
  {
   "cell_type": "code",
   "execution_count": 26,
   "metadata": {},
   "outputs": [
    {
     "name": "stdout",
     "output_type": "stream",
     "text": [
      "2\n",
      "4\n",
      "1 2 3 4\n",
      "19\n",
      "5\n",
      "1 2 3 4 5\n",
      "34\n"
     ]
    }
   ],
   "source": [
    "testcase=int(input())\n",
    "for _ in range(0,testcase):\n",
    "    candy=[]\n",
    "    sum=0\n",
    "    sum1=0\n",
    "    final=[]\n",
    "    boxno=int(input())\n",
    "    candy=list(map(int,input().split()))\n",
    "    for i in range(0,len(candy)):\n",
    "        sum=sum+candy[i]\n",
    "        final.append(sum)\n",
    "    final.pop(0)\n",
    "    for j in range (0,len(final)):\n",
    "        sum1=sum1+final[j]\n",
    "    print(sum1)"
   ]
  },
  {
   "cell_type": "markdown",
   "metadata": {},
   "source": [
    "# Square Free Numbers"
   ]
  },
  {
   "cell_type": "code",
   "execution_count": 13,
   "metadata": {},
   "outputs": [
    {
     "name": "stdout",
     "output_type": "stream",
     "text": [
      "20\n",
      "[2, 4, 5, 10, 20]\n",
      "[2, 5, 10, 20]\n",
      "[4]\n",
      "[2, 5, 10]\n",
      "3\n"
     ]
    }
   ],
   "source": [
    "import math\n",
    "n=int(input())\n",
    "a=[]\n",
    "sqlist=[]\n",
    "for i in range(2,n+1):\n",
    "    if (n%i==0):\n",
    "        a.append(i)\n",
    "print(a)\n",
    "def perfect_square(number):\n",
    "    return (number**0.5) % int(number**0.5) == 0\n",
    "for data in a:\n",
    "    if perfect_square(data):\n",
    "        sqlist.append(data)\n",
    "        a.remove(data)\n",
    "print(a)\n",
    "print(sqlist)\n",
    "for j in range(0,len(sqlist)):\n",
    "    for i in range(0,len(a)):\n",
    "        if(a[i]%sqlist[j]==0):\n",
    "            a.remove(a[i])\n",
    "print(a)\n",
    "print(len(a))"
   ]
  }
 ],
 "metadata": {
  "kernelspec": {
   "display_name": "Python 3",
   "language": "python",
   "name": "python3"
  },
  "language_info": {
   "codemirror_mode": {
    "name": "ipython",
    "version": 3
   },
   "file_extension": ".py",
   "mimetype": "text/x-python",
   "name": "python",
   "nbconvert_exporter": "python",
   "pygments_lexer": "ipython3",
   "version": "3.7.3"
  }
 },
 "nbformat": 4,
 "nbformat_minor": 2
}
