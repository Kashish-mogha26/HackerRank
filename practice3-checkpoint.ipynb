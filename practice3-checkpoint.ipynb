{
 "cells": [
  {
   "cell_type": "markdown",
   "metadata": {},
   "source": [
    "# Doormat Designing"
   ]
  },
  {
   "cell_type": "code",
   "execution_count": 7,
   "metadata": {},
   "outputs": [
    {
     "name": "stdout",
     "output_type": "stream",
     "text": [
      "11 33\n",
      "---------------.|.---------------\n",
      "------------.|..|..|.------------\n",
      "---------.|..|..|..|..|.---------\n",
      "------.|..|..|..|..|..|..|.------\n",
      "---.|..|..|..|..|..|..|..|..|.---\n",
      "-------------WELCOME-------------\n",
      "---.|..|..|..|..|..|..|..|..|.---\n",
      "------.|..|..|..|..|..|..|.------\n",
      "---------.|..|..|..|..|.---------\n",
      "------------.|..|..|.------------\n",
      "---------------.|.---------------\n"
     ]
    }
   ],
   "source": [
    "n,m=map(int,input().split())\n",
    "pattern=[('.|.'*(2*i+1)).center(m,'-') for i in range(n//2)]\n",
    "print('\\n'.join(pattern+[\"WELCOME\".center(m,'-')] +pattern[::-1]))"
   ]
  },
  {
   "cell_type": "markdown",
   "metadata": {},
   "source": [
    "# Maximum sum of i*arr[i] among all rotations of given array"
   ]
  },
  {
   "cell_type": "code",
   "execution_count": 3,
   "metadata": {},
   "outputs": [
    {
     "name": "stdout",
     "output_type": "stream",
     "text": [
      "Enter number of elements in a array4\n",
      "8 3 1 2\n",
      "29\n"
     ]
    }
   ],
   "source": [
    "import sys\n",
    "def sum(arr,n):\n",
    "    result=-sys.maxsize\n",
    "    for i in range(0,n):\n",
    "        currsum=0\n",
    "        for j in range(0,n):\n",
    "            index=int((i+j)%n)\n",
    "            currsum+=j*arr[index]\n",
    "        result=max(result,currsum)\n",
    "    return result\n",
    "    print(arr)\n",
    "                      \n",
    "if __name__ == '__main__':\n",
    "    N=int(input(\"Enter number of elements in a array\"))\n",
    "    arr = list(map(int, input().split()))\n",
    "    n=len(arr)\n",
    "    print(sum(arr,n))   "
   ]
  },
  {
   "cell_type": "markdown",
   "metadata": {},
   "source": [
    "# Number System:"
   ]
  },
  {
   "cell_type": "code",
   "execution_count": 1,
   "metadata": {},
   "outputs": [
    {
     "name": "stdout",
     "output_type": "stream",
     "text": [
      "7\n",
      "  1   1   1   1\n",
      "  2   2   2  10\n",
      "  3   3   3  11\n",
      "  4   4   4 100\n",
      "  5   5   5 101\n",
      "  6   6   6 110\n",
      "  7   7   7 111\n"
     ]
    }
   ],
   "source": [
    "def print_formatted(n):\n",
    "    \n",
    "    width = len(bin(n)[2:])\n",
    "    for i in range(1, n + 1):\n",
    "        print(' '.join(map(lambda x: x.rjust(width), [str(i), oct(i)[2:], hex(i)[2:].upper(), bin(i)[2:]])))\n",
    "\n",
    "if __name__ == '__main__':\n",
    "    n = int(input())\n",
    "    print_formatted(n)"
   ]
  },
  {
   "cell_type": "markdown",
   "metadata": {},
   "source": [
    "# Pattern Design:"
   ]
  },
  {
   "cell_type": "code",
   "execution_count": 1,
   "metadata": {},
   "outputs": [
    {
     "name": "stdout",
     "output_type": "stream",
     "text": [
      "5\n",
      "--------e--------\n",
      "------e-d-e------\n",
      "----e-d-c-d-e----\n",
      "--e-d-c-b-c-d-e--\n",
      "e-d-c-b-a-b-c-d-e\n",
      "--e-d-c-b-c-d-e--\n",
      "----e-d-c-d-e----\n",
      "------e-d-e------\n",
      "--------e--------\n"
     ]
    }
   ],
   "source": [
    "import string\n",
    "alp=string.ascii_lowercase\n",
    "n=int(input())\n",
    "l=[]\n",
    "for i in range(n):\n",
    "    s=\"-\".join(alp[i:n])\n",
    "    l.append(s[::-1]+s[1:])\n",
    "width=len(l[0])\n",
    "for i in range(n-1,0,-1):\n",
    "    print(l[i].center(width,\"-\"))\n",
    "for i in range(n):\n",
    "    print(l[i].center(width,\"-\"))"
   ]
  },
  {
   "cell_type": "markdown",
   "metadata": {},
   "source": [
    "# Capitalize Problem:"
   ]
  },
  {
   "cell_type": "code",
   "execution_count": 10,
   "metadata": {},
   "outputs": [
    {
     "name": "stdout",
     "output_type": "stream",
     "text": [
      "kashish mogha\n",
      "Kashish Mogha\n"
     ]
    }
   ],
   "source": [
    "import string\n",
    "string=input().split(' ')\n",
    "print(' '.join((word.capitalize() for word in string)))"
   ]
  },
  {
   "cell_type": "markdown",
   "metadata": {},
   "source": [
    "# The Minion Game:"
   ]
  },
  {
   "cell_type": "code",
   "execution_count": 11,
   "metadata": {},
   "outputs": [
    {
     "name": "stdout",
     "output_type": "stream",
     "text": [
      "BANANA\n",
      "Stuart 12\n"
     ]
    }
   ],
   "source": [
    "def minion_game(string):\n",
    "    vowels='AEIOU'\n",
    "    k=0\n",
    "    st=0\n",
    "    for i in range(len(s)):\n",
    "        if s[i] in vowels:\n",
    "            k+=(len(s)-i)\n",
    "        else:\n",
    "            st+=(len(s)-i)\n",
    "    if k>st:\n",
    "        print(\"Kevin\",k)\n",
    "    elif k<st:\n",
    "        print(\"Stuart\",st)\n",
    "    else:\n",
    "        print(\"Draw\")\n",
    "\n",
    "if __name__ == '__main__':\n",
    "    s = input()\n",
    "    minion_game(s)"
   ]
  },
  {
   "cell_type": "markdown",
   "metadata": {},
   "source": [
    "# Merging"
   ]
  },
  {
   "cell_type": "code",
   "execution_count": 6,
   "metadata": {},
   "outputs": [
    {
     "name": "stdout",
     "output_type": "stream",
     "text": [
      "kashish\n",
      "2\n",
      "ka\n",
      "sh\n",
      "is\n",
      "h\n"
     ]
    }
   ],
   "source": [
    "def merge_the_tools(string, k):\n",
    "    # for part in zip(*[iter(string)] * k):\n",
    "    #     d = dict()\n",
    "    #     print(''.join([ d.setdefault(c, c) for c in part if c not in d ]))\n",
    "    for i in range(0, len(string), k):\n",
    "        s = \"\"\n",
    "        for j in string[i : i + k]:\n",
    "            if j not in s:\n",
    "                s += j          \n",
    "        print(s)\n",
    "\n",
    "if __name__ == '__main__':\n",
    "    string, k = input(), int(input())\n",
    "    merge_the_tools(string, k)"
   ]
  },
  {
   "cell_type": "markdown",
   "metadata": {},
   "source": [
    "# Exception"
   ]
  },
  {
   "cell_type": "code",
   "execution_count": 10,
   "metadata": {},
   "outputs": [
    {
     "name": "stdout",
     "output_type": "stream",
     "text": [
      "4\n",
      "5 2\n",
      "2\n",
      "3 0\n",
      "Error Code: integer division or modulo by zero\n",
      "4 #\n",
      "Error Code: invalid literal for int() with base 10: '#'\n",
      "6 1\n",
      "6\n"
     ]
    }
   ],
   "source": [
    "n=int(input())\n",
    "for i in range(n):  \n",
    "    try:\n",
    "        a,b= map(int,input().split())\n",
    "        print(a//b)\n",
    "    except BaseException as e:\n",
    "        print(\"Error Code:\",e)"
   ]
  },
  {
   "cell_type": "markdown",
   "metadata": {},
   "source": [
    "# Incorrect regex:"
   ]
  },
  {
   "cell_type": "code",
   "execution_count": 12,
   "metadata": {},
   "outputs": [
    {
     "name": "stdout",
     "output_type": "stream",
     "text": [
      "3\n",
      ".*/+\n",
      "True\n",
      ".*+\n",
      "False\n",
      "+/*\n",
      "False\n"
     ]
    }
   ],
   "source": [
    "import re\n",
    "for _ in range(int(input())):\n",
    "    try:\n",
    "        re.compile(input())\n",
    "        print(True)\n",
    "    except re.error:\n",
    "        print(False)"
   ]
  },
  {
   "cell_type": "markdown",
   "metadata": {},
   "source": [
    "# Collection ordered dict:"
   ]
  },
  {
   "cell_type": "code",
   "execution_count": 16,
   "metadata": {},
   "outputs": [
    {
     "name": "stdout",
     "output_type": "stream",
     "text": [
      "5\n",
      "kiwi 13\n",
      "apple 20\n",
      "orange 10\n",
      "kiwi 6\n",
      "apple 32\n",
      "kiwi 19\n",
      "apple 52\n",
      "orange 10\n"
     ]
    }
   ],
   "source": [
    "from collections import OrderedDict\n",
    "d = OrderedDict()\n",
    "for _ in range(int(input())):\n",
    "    item, space, quantity = input().rpartition(' ')\n",
    "    d[item] = d.get(item, 0) + int(quantity)\n",
    "for item, quantity in d.items():\n",
    "    print(item, quantity)"
   ]
  },
  {
   "cell_type": "markdown",
   "metadata": {},
   "source": [
    "# Word Order:"
   ]
  },
  {
   "cell_type": "code",
   "execution_count": 17,
   "metadata": {},
   "outputs": [
    {
     "name": "stdout",
     "output_type": "stream",
     "text": [
      "5\n",
      "ijkl\n",
      "abcde\n",
      "ijkl\n",
      "mnop\n",
      "qrst\n",
      "4\n",
      "2 1 1 1\n"
     ]
    }
   ],
   "source": [
    "from collections import OrderedDict\n",
    "words = OrderedDict()\n",
    "\n",
    "for _ in range(int(input())):\n",
    "    word = input()\n",
    "    words.setdefault(word, 0)\n",
    "    words[word] += 1\n",
    "   \n",
    "print(len(words))\n",
    "print(*words.values())"
   ]
  },
  {
   "cell_type": "code",
   "execution_count": null,
   "metadata": {},
   "outputs": [],
   "source": []
  }
 ],
 "metadata": {
  "kernelspec": {
   "display_name": "Python 3",
   "language": "python",
   "name": "python3"
  },
  "language_info": {
   "codemirror_mode": {
    "name": "ipython",
    "version": 3
   },
   "file_extension": ".py",
   "mimetype": "text/x-python",
   "name": "python",
   "nbconvert_exporter": "python",
   "pygments_lexer": "ipython3",
   "version": "3.7.3"
  }
 },
 "nbformat": 4,
 "nbformat_minor": 2
}
