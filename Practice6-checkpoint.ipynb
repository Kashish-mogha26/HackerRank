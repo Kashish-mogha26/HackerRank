{
 "cells": [
  {
   "cell_type": "markdown",
   "metadata": {},
   "source": [
    "# DefaultDict"
   ]
  },
  {
   "cell_type": "code",
   "execution_count": 5,
   "metadata": {},
   "outputs": [
    {
     "name": "stdout",
     "output_type": "stream",
     "text": [
      "5 2\n",
      "a\n",
      "a\n",
      "b\n",
      "a\n",
      "a\n",
      "a\n",
      "b\n",
      "1 2 4 5\n",
      "3\n"
     ]
    }
   ],
   "source": [
    "from collections import defaultdict\n",
    "n,m=[int(x) for x in input().split(' ')]\n",
    "lis=[]\n",
    "d=defaultdict(list)\n",
    "for i in range(1,n+1):\n",
    "    d[input()].append(i)\n",
    "for _ in range(m):\n",
    "    lis.append(input())\n",
    "for x in lis:\n",
    "    if x in d:\n",
    "        print(' '.join(map(str,d[x])))\n",
    "    else:\n",
    "        print(-1)"
   ]
  },
  {
   "cell_type": "markdown",
   "metadata": {},
   "source": [
    "# Collections.deque"
   ]
  },
  {
   "cell_type": "code",
   "execution_count": 9,
   "metadata": {},
   "outputs": [
    {
     "name": "stdout",
     "output_type": "stream",
     "text": [
      "6\n",
      "append 2\n",
      "append 4\n",
      "append 6\n",
      "pop\n",
      "append 8\n",
      "popleft\n",
      "4 8 "
     ]
    },
    {
     "data": {
      "text/plain": [
       "[None, None]"
      ]
     },
     "execution_count": 9,
     "metadata": {},
     "output_type": "execute_result"
    }
   ],
   "source": [
    "from collections import deque\n",
    "d = deque()\n",
    "for _ in range(int(input())):\n",
    "    cmd, *args = input().split()\n",
    "    getattr(d, cmd)(*args)\n",
    "[print(x, end=' ') for x in d]"
   ]
  },
  {
   "cell_type": "markdown",
   "metadata": {},
   "source": [
    "# Capitalizing first letter"
   ]
  },
  {
   "cell_type": "code",
   "execution_count": 7,
   "metadata": {},
   "outputs": [
    {
     "name": "stdout",
     "output_type": "stream",
     "text": [
      "kashish mogha\n",
      "Kashish Mogha\n"
     ]
    }
   ],
   "source": [
    "def capital(s):\n",
    "    l=s.split(\" \")\n",
    "    a=[i.capitalize() for i in l]\n",
    "    return \" \".join(a)\n",
    "if __name__=='__main__':\n",
    "    string=input()\n",
    "    result=capital(string)\n",
    "    print(result)"
   ]
  },
  {
   "cell_type": "code",
   "execution_count": null,
   "metadata": {},
   "outputs": [],
   "source": []
  }
 ],
 "metadata": {
  "kernelspec": {
   "display_name": "Python 3",
   "language": "python",
   "name": "python3"
  },
  "language_info": {
   "codemirror_mode": {
    "name": "ipython",
    "version": 3
   },
   "file_extension": ".py",
   "mimetype": "text/x-python",
   "name": "python",
   "nbconvert_exporter": "python",
   "pygments_lexer": "ipython3",
   "version": "3.7.3"
  }
 },
 "nbformat": 4,
 "nbformat_minor": 2
}
