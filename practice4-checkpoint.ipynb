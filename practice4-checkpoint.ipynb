{
 "cells": [
  {
   "cell_type": "markdown",
   "metadata": {},
   "source": [
    "# Product:"
   ]
  },
  {
   "cell_type": "code",
   "execution_count": 1,
   "metadata": {},
   "outputs": [
    {
     "name": "stdout",
     "output_type": "stream",
     "text": [
      "1 2\n",
      "3 4\n",
      "(1, 3) (1, 4) (2, 3) (2, 4)\n"
     ]
    }
   ],
   "source": [
    "from itertools import product\n",
    "\n",
    "a = list(map(int, input().split()))\n",
    "b = list(map(int, input().split()))\n",
    "\n",
    "print(*product(a, b))"
   ]
  },
  {
   "cell_type": "markdown",
   "metadata": {},
   "source": [
    "# Permutation:"
   ]
  },
  {
   "cell_type": "code",
   "execution_count": 2,
   "metadata": {},
   "outputs": [
    {
     "name": "stdout",
     "output_type": "stream",
     "text": [
      "hack 2\n",
      "ac\n",
      "ah\n",
      "ak\n",
      "ca\n",
      "ch\n",
      "ck\n",
      "ha\n",
      "hc\n",
      "hk\n",
      "ka\n",
      "kc\n",
      "kh\n"
     ]
    }
   ],
   "source": [
    "from itertools import permutations\n",
    "s,n = input().split()\n",
    "print(*[''.join(i) for i in permutations(sorted(s),int(n))],sep='\\n')"
   ]
  },
  {
   "cell_type": "markdown",
   "metadata": {},
   "source": [
    "# Combination:"
   ]
  },
  {
   "cell_type": "code",
   "execution_count": 5,
   "metadata": {},
   "outputs": [
    {
     "name": "stdout",
     "output_type": "stream",
     "text": [
      "hey 3\n",
      "e\n",
      "h\n",
      "y\n",
      "eh\n",
      "ey\n",
      "hy\n",
      "ehy\n"
     ]
    }
   ],
   "source": [
    "from itertools import combinations\n",
    "s,n=input().split()\n",
    "for i in range(1,int (n)+1):\n",
    "    for j in combinations(sorted(s),i):\n",
    "        print(\"\".join(j))"
   ]
  },
  {
   "cell_type": "markdown",
   "metadata": {},
   "source": [
    "# collections.Counter():"
   ]
  },
  {
   "cell_type": "code",
   "execution_count": 1,
   "metadata": {},
   "outputs": [
    {
     "name": "stdout",
     "output_type": "stream",
     "text": [
      "10\n",
      "4 5 4 6 7 8 9 5 15 7\n",
      "7\n",
      "8 50\n",
      "5 48\n",
      "5 48\n",
      "4 45\n",
      "7 55\n",
      "5 50\n",
      "5 50\n",
      "246\n"
     ]
    }
   ],
   "source": [
    "import collections\n",
    "s=int(input())\n",
    "ss=collections.Counter(map(int,input().split()))\n",
    "c=int(input())\n",
    "income=0\n",
    "for i in range(c):\n",
    "    size,price=map(int,input().split())\n",
    "    if ss[size]:\n",
    "        income+=price\n",
    "        ss[size]-=1\n",
    "print(income)"
   ]
  },
  {
   "cell_type": "markdown",
   "metadata": {},
   "source": [
    "# Polar Coordinates:"
   ]
  },
  {
   "cell_type": "code",
   "execution_count": 1,
   "metadata": {},
   "outputs": [
    {
     "name": "stdout",
     "output_type": "stream",
     "text": [
      "2+3j\n",
      "3.605551275463989\n",
      "0.982793723247329\n"
     ]
    }
   ],
   "source": [
    "import cmath\n",
    "print(*cmath.polar(complex(input())), sep='\\n')"
   ]
  },
  {
   "cell_type": "code",
   "execution_count": 13,
   "metadata": {},
   "outputs": [
    {
     "data": {
      "text/plain": [
       "3"
      ]
     },
     "execution_count": 13,
     "metadata": {},
     "output_type": "execute_result"
    }
   ],
   "source": [
    "9%6"
   ]
  },
  {
   "cell_type": "code",
   "execution_count": 14,
   "metadata": {},
   "outputs": [
    {
     "data": {
      "text/plain": [
       "1.5"
      ]
     },
     "execution_count": 14,
     "metadata": {},
     "output_type": "execute_result"
    }
   ],
   "source": [
    "9/6"
   ]
  },
  {
   "cell_type": "code",
   "execution_count": 15,
   "metadata": {},
   "outputs": [
    {
     "data": {
      "text/plain": [
       "1"
      ]
     },
     "execution_count": 15,
     "metadata": {},
     "output_type": "execute_result"
    }
   ],
   "source": [
    "9//6"
   ]
  },
  {
   "cell_type": "markdown",
   "metadata": {},
   "source": [
    "# Symmetric Difference:"
   ]
  },
  {
   "cell_type": "code",
   "execution_count": 21,
   "metadata": {},
   "outputs": [
    {
     "name": "stdout",
     "output_type": "stream",
     "text": [
      "5\n",
      "2 4 5 9 1\n",
      "5\n",
      "2 4 7 6 8\n",
      "1\n",
      "5\n",
      "6\n",
      "7\n",
      "8\n",
      "9\n"
     ]
    }
   ],
   "source": [
    "a,b = [set(input().split()) for _ in range(4)][1::2]\n",
    "print(*sorted(a^b, key=int), sep='\\n')"
   ]
  },
  {
   "cell_type": "code",
   "execution_count": null,
   "metadata": {},
   "outputs": [],
   "source": []
  }
 ],
 "metadata": {
  "kernelspec": {
   "display_name": "Python 3",
   "language": "python",
   "name": "python3"
  },
  "language_info": {
   "codemirror_mode": {
    "name": "ipython",
    "version": 3
   },
   "file_extension": ".py",
   "mimetype": "text/x-python",
   "name": "python",
   "nbconvert_exporter": "python",
   "pygments_lexer": "ipython3",
   "version": "3.7.3"
  }
 },
 "nbformat": 4,
 "nbformat_minor": 2
}
