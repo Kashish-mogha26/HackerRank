{
 "cells": [
  {
   "cell_type": "markdown",
   "metadata": {},
   "source": [
    "# Average marks using named tuple:"
   ]
  },
  {
   "cell_type": "code",
   "execution_count": 5,
   "metadata": {},
   "outputs": [
    {
     "name": "stdout",
     "output_type": "stream",
     "text": [
      "5\n",
      "NAME AGE MARKS ADD\n",
      "a 20 98 y\n",
      "b 21 94 s\n",
      "c 20 80 k\n",
      "d 21 86 x\n",
      "e 21 81 z\n",
      "87.8\n",
      "5 ['NAME', 'AGE', 'MARKS', 'ADD'] <class '__main__.Grade'>\n"
     ]
    }
   ],
   "source": [
    "from collections import namedtuple\n",
    "(n, categories) = (int(input()), input().split())\n",
    "Grade = namedtuple('Grade', categories)\n",
    "marks = [int(Grade._make(input().split()).MARKS) for _ in range(n)]\n",
    "print((sum(marks) / len(marks)))\n",
    "print(n,categories,Grade)"
   ]
  },
  {
   "cell_type": "markdown",
   "metadata": {},
   "source": [
    "# Perfect number:"
   ]
  },
  {
   "cell_type": "code",
   "execution_count": 10,
   "metadata": {},
   "outputs": [
    {
     "name": "stdout",
     "output_type": "stream",
     "text": [
      "3\n",
      "6\n",
      "YES\n",
      "5\n",
      "NO\n",
      "28\n",
      "YES\n"
     ]
    }
   ],
   "source": [
    "def Solve (N):\n",
    "    sum = 1\n",
    "    i = 2\n",
    "    while i * i <= N: \n",
    "        if N % i == 0: \n",
    "            sum = sum + i + N/i \n",
    "        i += 1\n",
    "    return ('YES' if sum == N and N!=1 else 'NO') \n",
    "T = int(input())\n",
    "for _ in range(T):\n",
    "    N = int(input())\n",
    "    out= Solve(N)\n",
    "    print (out)"
   ]
  },
  {
   "cell_type": "markdown",
   "metadata": {},
   "source": [
    "# Happiness Count: "
   ]
  },
  {
   "cell_type": "code",
   "execution_count": 27,
   "metadata": {},
   "outputs": [
    {
     "name": "stdout",
     "output_type": "stream",
     "text": [
      "3 2\n",
      "5 6 7\n",
      "6 5\n",
      "7 1\n",
      "Happiness= 1\n"
     ]
    }
   ],
   "source": [
    "#print sum([(i in a) - (i in b) for i in arr])\n",
    "\n",
    "n,m=map(int,input().split())\n",
    "l=input().split(' ')\n",
    "A=set(input().split(' '))\n",
    "B=set(input().split(' '))\n",
    "happiness=0\n",
    "\n",
    "for i in l:\n",
    "    if i in A:\n",
    "        happiness+=1\n",
    "    if i in B:\n",
    "        happiness-=1\n",
    "print(\"Happiness=\",happiness)\n"
   ]
  },
  {
   "cell_type": "markdown",
   "metadata": {},
   "source": [
    "# Different styles of taking Inputs:"
   ]
  },
  {
   "cell_type": "code",
   "execution_count": 1,
   "metadata": {},
   "outputs": [
    {
     "name": "stdout",
     "output_type": "stream",
     "text": [
      "1 2 3\n",
      "4 5\n",
      "6 7 8 9\n",
      "[1, 2, 3] 4 5\n",
      "{'9', '6', '7', '8'}\n",
      "3\n",
      "8\n",
      "5\n",
      "1\n",
      "[[8], [5], [1]]\n"
     ]
    }
   ],
   "source": [
    "l=list(map(int,input().split()))\n",
    "a,m=map(int,input().split())\n",
    "k=set(input().split())\n",
    "print(l,a,m)\n",
    "print(k)\n",
    "n=int(input())\n",
    "arr=[[int(input())] for _ in range (n)]\n",
    "print(arr)"
   ]
  }
 ],
 "metadata": {
  "kernelspec": {
   "display_name": "Python 3",
   "language": "python",
   "name": "python3"
  },
  "language_info": {
   "codemirror_mode": {
    "name": "ipython",
    "version": 3
   },
   "file_extension": ".py",
   "mimetype": "text/x-python",
   "name": "python",
   "nbconvert_exporter": "python",
   "pygments_lexer": "ipython3",
   "version": "3.7.3"
  }
 },
 "nbformat": 4,
 "nbformat_minor": 2
}
