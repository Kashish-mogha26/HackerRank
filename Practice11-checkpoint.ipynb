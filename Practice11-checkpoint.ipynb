{
 "cells": [
  {
   "cell_type": "markdown",
   "metadata": {},
   "source": [
    "# Entering Matrix:"
   ]
  },
  {
   "cell_type": "code",
   "execution_count": 4,
   "metadata": {},
   "outputs": [
    {
     "name": "stdout",
     "output_type": "stream",
     "text": [
      "2 9\n",
      "1\n",
      "0\n",
      "1\n",
      "1\n",
      "0\n",
      "1\n",
      "1\n",
      "1\n",
      "1\n",
      "0\n",
      "0\n",
      "0\n",
      "1\n",
      "0\n",
      "1\n",
      "0\n",
      "0\n",
      "1\n",
      "1 0 1 1 0 1 1 1 1 \n",
      "0 0 0 1 0 1 0 0 1 \n"
     ]
    }
   ],
   "source": [
    "\n",
    "N,M=map(int,input().split())\n",
    "matrix=[]\n",
    "for i in range(N):\n",
    "    a=[]\n",
    "    for j in range(M):\n",
    "        a.append(int(input()))\n",
    "    matrix.append(a)\n",
    "for i in range(N):\n",
    "    for j in range(M):\n",
    "        print(matrix[i][j],end=' ')\n",
    "    print()"
   ]
  },
  {
   "cell_type": "markdown",
   "metadata": {},
   "source": [
    "# Entering Matrix:"
   ]
  },
  {
   "cell_type": "code",
   "execution_count": 7,
   "metadata": {},
   "outputs": [
    {
     "name": "stdout",
     "output_type": "stream",
     "text": [
      "Enter the number of rows:2\n",
      "Enter the number of columns:9\n",
      "1 0 1 1 0 1 1 1 1 0 0 0 1 0 1 0 0 1\n",
      "[[1 0 1 1 0 1 1 1 1]\n",
      " [0 0 0 1 0 1 0 0 1]]\n"
     ]
    }
   ],
   "source": [
    "import numpy as np   \n",
    "R = int(input(\"Enter the number of rows:\")) \n",
    "C = int(input(\"Enter the number of columns:\"))   \n",
    "# User input of entries in a  \n",
    "# single line separated by space \n",
    "entries = list(map(int, input().split())) \n",
    "  \n",
    "# For printing the matrix \n",
    "matrix = np.array(entries).reshape(R, C) \n",
    "print(matrix) "
   ]
  },
  {
   "cell_type": "code",
   "execution_count": 17,
   "metadata": {},
   "outputs": [
    {
     "name": "stdout",
     "output_type": "stream",
     "text": [
      "[9, (5, 9)]\n"
     ]
    }
   ],
   "source": [
    "f=[]\n",
    "f.append(9)\n",
    "s=5,9\n",
    "f.append(s)\n",
    "print(f)\n",
    "\n"
   ]
  },
  {
   "cell_type": "markdown",
   "metadata": {},
   "source": [
    "# Decimal to any base:"
   ]
  },
  {
   "cell_type": "code",
   "execution_count": 1,
   "metadata": {},
   "outputs": [
    {
     "name": "stdout",
     "output_type": "stream",
     "text": [
      "718\n",
      "12\n",
      "4BA\n"
     ]
    }
   ],
   "source": [
    "def dec_to_base(num,base):  #Maximum base - 36\n",
    "    base_num = \"\"\n",
    "    while num>0:\n",
    "        dig = int(num%base)\n",
    "        if dig<10:\n",
    "            base_num += str(dig)\n",
    "        else:\n",
    "            base_num += chr(ord('A')+dig-10)  #Using uppercase letters\n",
    "        num //= base\n",
    "    base_num = base_num[::-1]  #To reverse the string\n",
    "    return base_num\n",
    "if __name__=='__main__':\n",
    "    num=int(input())\n",
    "    base=int(input())\n",
    "    result=dec_to_base(num,base)\n",
    "    print(result)"
   ]
  },
  {
   "cell_type": "code",
   "execution_count": 5,
   "metadata": {},
   "outputs": [
    {
     "name": "stdout",
     "output_type": "stream",
     "text": [
      "A\n"
     ]
    }
   ],
   "source": [
    "base_num=''\n",
    "dig=11\n",
    "base_num += chr(ord('A')+dig-11)\n",
    "print(base_num)"
   ]
  }
 ],
 "metadata": {
  "kernelspec": {
   "display_name": "Python 3",
   "language": "python",
   "name": "python3"
  },
  "language_info": {
   "codemirror_mode": {
    "name": "ipython",
    "version": 3
   },
   "file_extension": ".py",
   "mimetype": "text/x-python",
   "name": "python",
   "nbconvert_exporter": "python",
   "pygments_lexer": "ipython3",
   "version": "3.7.3"
  }
 },
 "nbformat": 4,
 "nbformat_minor": 2
}
