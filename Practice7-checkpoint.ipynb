{
 "cells": [
  {
   "cell_type": "markdown",
   "metadata": {},
   "source": [
    "# Consecutive prime sum:"
   ]
  },
  {
   "cell_type": "code",
   "execution_count": 5,
   "metadata": {},
   "outputs": [
    {
     "name": "stdout",
     "output_type": "stream",
     "text": [
      "20\n",
      "2\n"
     ]
    }
   ],
   "source": [
    "def prime(n):\n",
    "    if n>1:\n",
    "        for i in range(2,n):\n",
    "            if(n%i==0):\n",
    "                return 0\n",
    "                break\n",
    "        else:\n",
    "            return 1\n",
    "    else:\n",
    "        return 0\n",
    "if __name__=='__main__':\n",
    "    num=int(input())\n",
    "    sum=0\n",
    "    count=0\n",
    "    a=[]\n",
    "    for i in range(2,num+1):\n",
    "        for j in range(2,i):\n",
    "            if (i%j)==0:\n",
    "                break\n",
    "        else:\n",
    "            a.append(i)\n",
    "    #length=len(a)\n",
    "    for i in range (0,len(a)):\n",
    "        sum=sum+a[i]\n",
    "        if(2<sum<num):\n",
    "            c=prime(sum)\n",
    "            if (c==1):\n",
    "                count=count+1\n",
    "    print(count)"
   ]
  },
  {
   "cell_type": "markdown",
   "metadata": {},
   "source": [
    "# Bank Compare:"
   ]
  },
  {
   "cell_type": "code",
   "execution_count": 11,
   "metadata": {},
   "outputs": [
    {
     "name": "stdout",
     "output_type": "stream",
     "text": [
      "10000\n",
      "20\n",
      "3\n",
      "5 9.5\n",
      "10 9.6\n",
      "5 8.5\n",
      "3\n",
      "10 6.9\n",
      "5 8.5\n",
      "5 7.9\n",
      "Bank B\n"
     ]
    }
   ],
   "source": [
    "p=int(input())\n",
    "t=int(input())\n",
    "n1=int(input())\n",
    "sum1=0\n",
    "sum2=2\n",
    "m1=0\n",
    "m2=0\n",
    "for k in range(0,n1):\n",
    "    r1,p1=map(float,input().split())\n",
    "    j=r1/1200\n",
    "    sq=pow((1+j),p1*12)\n",
    "    emi1=(p*(j))/(1-1/sq)\n",
    "    m1=emi1*(p1*12)\n",
    "    sum1=sum1+m1\n",
    "bankA=sum1\n",
    "n2=int(input())\n",
    "for k in range(0,n2):\n",
    "    r2,p2=map(float,input().split())\n",
    "    j=r2/1200\n",
    "    sq=pow((1+j),p2*12)\n",
    "    emi2=(p*(j))/(1-1/sq)\n",
    "    m2=emi2*(p2*12)\n",
    "    sum2=sum2+m2\n",
    "bankB=sum2\n",
    "if (bankA<bankB):\n",
    "    print(\"Bank A\")\n",
    "else:\n",
    "    print(\"Bank B\")"
   ]
  },
  {
   "cell_type": "markdown",
   "metadata": {},
   "source": [
    "# Counting Rock Samples:"
   ]
  },
  {
   "cell_type": "code",
   "execution_count": 6,
   "metadata": {},
   "outputs": [
    {
     "name": "stdout",
     "output_type": "stream",
     "text": [
      "10 2\n",
      "345 604 321 433 704 470 808 718 517 811\n",
      "300 350\n",
      "400 700\n",
      "2 4 "
     ]
    }
   ],
   "source": [
    "s,r=map(int,input().split())\n",
    "a=list(map(int,input().split()))\n",
    "count=0\n",
    "final=[]\n",
    "for _ in range(r):\n",
    "    l,u=map(int,input().split())\n",
    "    for i in range (s):\n",
    "        if (l<=a[i]<=u):\n",
    "            count=count+1\n",
    "    final.append(count)\n",
    "    count=0\n",
    "for i in range(0, len(final)):\n",
    "    print(final[i], end=\" \")"
   ]
  }
 ],
 "metadata": {
  "kernelspec": {
   "display_name": "Python 3",
   "language": "python",
   "name": "python3"
  },
  "language_info": {
   "codemirror_mode": {
    "name": "ipython",
    "version": 3
   },
   "file_extension": ".py",
   "mimetype": "text/x-python",
   "name": "python",
   "nbconvert_exporter": "python",
   "pygments_lexer": "ipython3",
   "version": "3.7.3"
  }
 },
 "nbformat": 4,
 "nbformat_minor": 2
}
