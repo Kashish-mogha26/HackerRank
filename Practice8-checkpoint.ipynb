{
 "cells": [
  {
   "cell_type": "markdown",
   "metadata": {},
   "source": [
    "# Coins Distribution:"
   ]
  },
  {
   "cell_type": "code",
   "execution_count": 25,
   "metadata": {},
   "outputs": [
    {
     "name": "stdout",
     "output_type": "stream",
     "text": [
      "3\n",
      "1\n",
      "5\n",
      "7\n",
      "1\n",
      "3\n",
      "4\n"
     ]
    }
   ],
   "source": [
    "testcase=int(input())\n",
    "sum=0\n",
    "a=[]\n",
    "final=[]\n",
    "for _ in range (testcase):\n",
    "    maxprice=int(input())\n",
    "    for i in range(1,maxprice+1):\n",
    "        a.append(i)\n",
    "        sum=sum+i\n",
    "        if sum>=maxprice:\n",
    "            count=len(a)\n",
    "            final.append(count)\n",
    "            count=0\n",
    "            a.clear()\n",
    "            sum=0\n",
    "            break\n",
    "for i in range(0, len(final)):\n",
    "    print(final[i])"
   ]
  },
  {
   "cell_type": "markdown",
   "metadata": {},
   "source": [
    "# Kth Largest factor of N:"
   ]
  },
  {
   "cell_type": "code",
   "execution_count": 23,
   "metadata": {},
   "outputs": [
    {
     "name": "stdout",
     "output_type": "stream",
     "text": [
      "30 9\n",
      "[30, 15, 10, 6, 5, 3, 2, 1]\n",
      "1\n"
     ]
    }
   ],
   "source": [
    "n,k=map(int,input().split())\n",
    "a=[]\n",
    "for i in range(1,n+1):\n",
    "    if (n%i==0):\n",
    "        a.append(i)\n",
    "a.sort(reverse=True)\n",
    "print(a)\n",
    "for j in range (1,len(a)+1):\n",
    "    if (j==k):\n",
    "        print(a[j-1])\n",
    "        break\n",
    "if(j!=k):\n",
    "    print(1)"
   ]
  }
 ],
 "metadata": {
  "kernelspec": {
   "display_name": "Python 3",
   "language": "python",
   "name": "python3"
  },
  "language_info": {
   "codemirror_mode": {
    "name": "ipython",
    "version": 3
   },
   "file_extension": ".py",
   "mimetype": "text/x-python",
   "name": "python",
   "nbconvert_exporter": "python",
   "pygments_lexer": "ipython3",
   "version": "3.7.3"
  }
 },
 "nbformat": 4,
 "nbformat_minor": 2
}
