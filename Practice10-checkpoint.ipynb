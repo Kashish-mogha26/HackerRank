{
 "cells": [
  {
   "cell_type": "markdown",
   "metadata": {},
   "source": [
    "# Unique Characters in String:"
   ]
  },
  {
   "cell_type": "code",
   "execution_count": 8,
   "metadata": {},
   "outputs": [
    {
     "name": "stdout",
     "output_type": "stream",
     "text": [
      "abcde\n",
      "True\n"
     ]
    }
   ],
   "source": [
    "def unique(s):\n",
    "    char=set()\n",
    "    for let in s:\n",
    "        if let in char:\n",
    "            return False\n",
    "        else:\n",
    "            char.add(let)\n",
    "    return True\n",
    "if __name__=='__main__':\n",
    "    s=input()\n",
    "    result=unique(s)\n",
    "    print(result)"
   ]
  },
  {
   "cell_type": "markdown",
   "metadata": {},
   "source": [
    "# String Compression"
   ]
  },
  {
   "cell_type": "code",
   "execution_count": 13,
   "metadata": {},
   "outputs": [
    {
     "name": "stdout",
     "output_type": "stream",
     "text": [
      "kkkasshishh\n",
      " k3a1s2h1i1s1h2\n"
     ]
    }
   ],
   "source": [
    "def compress(s):\n",
    "    r=\" \"\n",
    "    l=len(s)\n",
    "    if l==0:\n",
    "        return \" \"\n",
    "    if l==1:\n",
    "        return s+\"1\"\n",
    "    last=s[0]\n",
    "    cnt=1\n",
    "    i=1\n",
    "    while i<l:\n",
    "        if s[i]==s[i-1]:\n",
    "            cnt=cnt+1\n",
    "        else:\n",
    "            r=r+s[i-1]+str(cnt)\n",
    "            cnt=1\n",
    "        i=i+1\n",
    "    r=r+s[i-1]+str(cnt)\n",
    "    return r\n",
    "if __name__=='__main__':\n",
    "    s=input()\n",
    "    result=compress(s)\n",
    "    print(result)   "
   ]
  },
  {
   "cell_type": "markdown",
   "metadata": {},
   "source": [
    "# Sentence reversal"
   ]
  },
  {
   "cell_type": "code",
   "execution_count": 20,
   "metadata": {},
   "outputs": [
    {
     "name": "stdout",
     "output_type": "stream",
     "text": [
      "hey how have you been?\n",
      "been? you have how hey\n"
     ]
    }
   ],
   "source": [
    "def rev1(s):\n",
    "    return \" \".join(reversed(s.split()))\n",
    "def rev2(s):\n",
    "    return \" \".join(s.split()[::-1])\n",
    "def rev3(s):\n",
    "    word=[]\n",
    "    length=len(s)\n",
    "    space=[' ']\n",
    "    i=0\n",
    "    while i<length:\n",
    "        if s[i] not in space:\n",
    "            wordstart=i\n",
    "            while i<length and s[i] not in space:\n",
    "                i=i+1\n",
    "            word.append(s[wordstart:i])\n",
    "        i=i+1\n",
    "    return \" \".join(reversed(word))\n",
    "if __name__=='__main__':\n",
    "    s=input()\n",
    "    result=rev3(s)\n",
    "    print(result)\n",
    "                "
   ]
  },
  {
   "cell_type": "code",
   "execution_count": null,
   "metadata": {},
   "outputs": [],
   "source": []
  }
 ],
 "metadata": {
  "kernelspec": {
   "display_name": "Python 3",
   "language": "python",
   "name": "python3"
  },
  "language_info": {
   "codemirror_mode": {
    "name": "ipython",
    "version": 3
   },
   "file_extension": ".py",
   "mimetype": "text/x-python",
   "name": "python",
   "nbconvert_exporter": "python",
   "pygments_lexer": "ipython3",
   "version": "3.7.3"
  }
 },
 "nbformat": 4,
 "nbformat_minor": 2
}
