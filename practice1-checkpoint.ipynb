{
 "cells": [
  {
   "cell_type": "markdown",
   "metadata": {},
   "source": [
    "# Given the names and grades for each student in a class of n students, store them in a nested list and print the name(s) of any student(s) having the second lowest grade.Note: If there are multiple students with the same grade, order their names alphabetically and print each name on a new line."
   ]
  },
  {
   "cell_type": "code",
   "execution_count": 16,
   "metadata": {},
   "outputs": [
    {
     "name": "stdout",
     "output_type": "stream",
     "text": [
      "Enter the number of students4\n",
      "ria\n",
      "56\n",
      "tia\n",
      "58\n",
      "sia\n",
      "39\n",
      "dia\n",
      "40\n",
      "n is 4\n",
      "arr is [['sia', 39.0], ['dia', 40.0], ['ria', 56.0], ['tia', 58.0]]\n",
      "Names is ['sia', 'dia', 'ria', 'tia']\n",
      "Marks is [39.0, 40.0, 56.0, 58.0]\n",
      "min marks is 39.0\n",
      "Second Lowest marks is of= dia\n"
     ]
    }
   ],
   "source": [
    "n=int(input(\"Enter the number of students\"))\n",
    "arr=[[input(),float(input())] for _ in range(0,n)]\n",
    "arr.sort(key=lambda x: (x[1],x[0]))\n",
    "names = [i[0] for i in arr]\n",
    "marks = [i[1] for i in arr]\n",
    "min_val=min(marks)    \n",
    "print (\"n is\",n)\n",
    "print (\"arr is\",arr)\n",
    "print(\"Names is\",names)\n",
    "print(\"Marks is\",marks)\n",
    "print(\"min marks is\",min_val)\n",
    "\n",
    "while marks[0]==min_val:\n",
    "    marks.remove(marks[0])\n",
    "    names.remove(names[0])\n",
    "for x in range(0,len(marks)):\n",
    "    if marks[x]==min(marks):\n",
    "        print(\"Second Lowest marks is of=\",names[x])"
   ]
  },
  {
   "cell_type": "markdown",
   "metadata": {},
   "source": [
    "# You have a record of N students. Each record contains the students name, and their percent marks.The user enters some integer  followed by the names and marks for  students. You are required to save the record in a dictionary data type. The user then enters a students name. Output the average percentage marks obtained by that student, correct to two decimal places."
   ]
  },
  {
   "cell_type": "code",
   "execution_count": 14,
   "metadata": {},
   "outputs": [
    {
     "name": "stdout",
     "output_type": "stream",
     "text": [
      "Enter number of students3\n",
      "tia 54 23 15\n",
      "ria 91 27 19\n",
      "sia 46 61 29\n",
      "Enter query nameria\n",
      "ria\n",
      "[91.0, 27.0, 19.0]\n",
      "45.67\n"
     ]
    }
   ],
   "source": [
    "n=int(input(\"Enter number of students\"))\n",
    "#arr=[[input(),float(input())] for _ in range(0,n)]\n",
    "student_marks={}\n",
    "for _ in range(n):\n",
    "        name, *line = input().split()\n",
    "        scores = list(map(float, line))\n",
    "        student_marks[name] = scores\n",
    "query_name = (input(\"Enter query name\"))\n",
    "query_scores = student_marks[query_name]\n",
    "print(query_name)\n",
    "print(query_scores)\n",
    "print(\"{0:.2f}\".format(sum(query_scores)/(len(query_scores))))"
   ]
  },
  {
   "cell_type": "code",
   "execution_count": null,
   "metadata": {},
   "outputs": [],
   "source": []
  }
 ],
 "metadata": {
  "kernelspec": {
   "display_name": "Python 3",
   "language": "python",
   "name": "python3"
  },
  "language_info": {
   "codemirror_mode": {
    "name": "ipython",
    "version": 3
   },
   "file_extension": ".py",
   "mimetype": "text/x-python",
   "name": "python",
   "nbconvert_exporter": "python",
   "pygments_lexer": "ipython3",
   "version": "3.7.3"
  }
 },
 "nbformat": 4,
 "nbformat_minor": 2
}
