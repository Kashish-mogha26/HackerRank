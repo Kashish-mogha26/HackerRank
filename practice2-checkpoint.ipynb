{
 "cells": [
  {
   "cell_type": "markdown",
   "metadata": {},
   "source": [
    "# Calendar module:"
   ]
  },
  {
   "cell_type": "code",
   "execution_count": 5,
   "metadata": {},
   "outputs": [
    {
     "name": "stdout",
     "output_type": "stream",
     "text": [
      "26 11 2019\n",
      "TUESDAY\n"
     ]
    }
   ],
   "source": [
    "import calendar\n",
    "day, month, year = map(int, input().strip().split())\n",
    "print(calendar.day_name[calendar.weekday(year,month,day)].upper())"
   ]
  },
  {
   "cell_type": "markdown",
   "metadata": {},
   "source": [
    "# Hash Tuple problem:"
   ]
  },
  {
   "cell_type": "code",
   "execution_count": 6,
   "metadata": {},
   "outputs": [
    {
     "name": "stdout",
     "output_type": "stream",
     "text": [
      "2\n",
      "1 2\n",
      "3713081631934410656\n"
     ]
    }
   ],
   "source": [
    "tuple_len = int(input())\n",
    "a = tuple(map(int,input().split(' ')))\n",
    "print (hash(a))"
   ]
  },
  {
   "cell_type": "markdown",
   "metadata": {},
   "source": [
    "# List problem:"
   ]
  },
  {
   "cell_type": "code",
   "execution_count": 2,
   "metadata": {},
   "outputs": [
    {
     "name": "stdout",
     "output_type": "stream",
     "text": [
      "Enter number of operations10\n",
      "insert 0 6\n",
      "insert 2 9\n",
      "insert 1 8\n",
      "print\n",
      "[6, 8, 9]\n",
      "append 5\n",
      "append 6\n",
      "pop\n",
      "insert 3 4\n",
      "remove 6\n",
      "print\n",
      "[8, 9, 4, 5]\n"
     ]
    }
   ],
   "source": [
    "if __name__ == '__main__':\n",
    "    N = int(input(\"Enter number of operations\"))\n",
    "    result=[]\n",
    "    for n in range(N):\n",
    "        x = input().split()\n",
    "        command = str(x[0])\n",
    "        if command == 'append':\n",
    "            result.append(int(x[1]))\n",
    "        elif command == 'print':\n",
    "            print(result)\n",
    "        elif command == 'insert':\n",
    "            result.insert(int(x[1]), int(x[2]))\n",
    "        elif command == 'reverse':\n",
    "            result.reverse()\n",
    "        elif command == 'pop':\n",
    "            result.pop()\n",
    "        elif command == 'sort':\n",
    "            result.sort()\n",
    "        elif command == 'remove':\n",
    "            result.remove(int(x[1]))"
   ]
  },
  {
   "cell_type": "markdown",
   "metadata": {},
   "source": [
    "# Swap Cases problem:"
   ]
  },
  {
   "cell_type": "code",
   "execution_count": 3,
   "metadata": {},
   "outputs": [
    {
     "name": "stdout",
     "output_type": "stream",
     "text": [
      "Enter statementhEY!! hOw you dOINg?\n",
      "Changed statement Hey!! HoW YOU DoinG?\n"
     ]
    }
   ],
   "source": [
    "def swap_case(s):\n",
    "    a = \"\"\n",
    "    for i in s:\n",
    "        if i.isupper() == True:\n",
    "            a+=(i.lower())\n",
    "        else:\n",
    "            a+=(i.upper())\n",
    "    return a\n",
    "if __name__ == '__main__':\n",
    "    s = input(\"Enter statement\")\n",
    "    result = swap_case(s)\n",
    "    print(\"Changed statement\",result)"
   ]
  },
  {
   "cell_type": "markdown",
   "metadata": {},
   "source": [
    "# Mutation of string:"
   ]
  },
  {
   "cell_type": "code",
   "execution_count": 5,
   "metadata": {},
   "outputs": [
    {
     "name": "stdout",
     "output_type": "stream",
     "text": [
      "kashish\n",
      "3\n",
      "p\n",
      "kaspish\n"
     ]
    }
   ],
   "source": [
    "def mutate_string(string, position, character):\n",
    "    string = string[:position] + character + string[position+1:]\n",
    "    return string\n",
    "\n",
    "if __name__ == '__main__':\n",
    "    s = input()\n",
    "    i = int (input())\n",
    "    c=input()\n",
    "    s_new = mutate_string(s, int(i), c)\n",
    "    print(s_new)"
   ]
  },
  {
   "cell_type": "markdown",
   "metadata": {},
   "source": [
    "# Finding a substring in a string:"
   ]
  },
  {
   "cell_type": "code",
   "execution_count": 6,
   "metadata": {},
   "outputs": [
    {
     "name": "stdout",
     "output_type": "stream",
     "text": [
      "oh!hey,howareyou?wemissedyou.\n",
      "you\n",
      "2\n"
     ]
    }
   ],
   "source": [
    "def count_substring(string, sub_string):\n",
    "    num=0\n",
    "    for i in range (len(string),0,-1):\n",
    "        try:\n",
    "            if string[i-len(sub_string):i]==sub_string:\n",
    "                num+=1\n",
    "        except IndexError:break\n",
    "    return num\n",
    "\n",
    "if __name__ == '__main__':\n",
    "    string = input().strip()\n",
    "    sub_string = input().strip()\n",
    "    \n",
    "    count = count_substring(string, sub_string)\n",
    "    print(count)"
   ]
  },
  {
   "cell_type": "markdown",
   "metadata": {},
   "source": [
    "# String Validators:"
   ]
  },
  {
   "cell_type": "code",
   "execution_count": 7,
   "metadata": {},
   "outputs": [
    {
     "name": "stdout",
     "output_type": "stream",
     "text": [
      "Kashi26\n",
      "True\n",
      "True\n",
      "True\n",
      "True\n",
      "True\n"
     ]
    }
   ],
   "source": [
    "if __name__ == '__main__':\n",
    "    s = input()\n",
    "    # for method in [str.isalnum, str.isalpha, str.isdigit, str.islower, str.isupper]:\n",
    "\n",
    "    #     print (any(method(c) for c in s))\n",
    "\n",
    "    print (any(i.isalnum() for i in s))\n",
    "    print (any(i.isalpha()for i in s))\n",
    "    print (any(i.isdigit() for i in s))\n",
    "    print (any(i.islower() for i in s))\n",
    "    print (any(i.isupper() for i in s))"
   ]
  },
  {
   "cell_type": "markdown",
   "metadata": {},
   "source": [
    "# Text Wrap:"
   ]
  },
  {
   "cell_type": "code",
   "execution_count": 8,
   "metadata": {},
   "outputs": [
    {
     "name": "stdout",
     "output_type": "stream",
     "text": [
      "abcdefghijklmnopqrstuvwxyz\n",
      "4\n",
      "abcd\n",
      "efgh\n",
      "ijkl\n",
      "mnop\n",
      "qrst\n",
      "uvwx\n",
      "yz\n"
     ]
    }
   ],
   "source": [
    "import textwrap\n",
    "def wrap(s, n):\n",
    "    return '\\n'.join(textwrap.wrap(s,n))\n",
    "\n",
    "#without using textwrap\n",
    "# s=raw_input().strip()\n",
    "# w=int(raw_input())\n",
    "# for i in range(0,len(s)+1,w):\n",
    "#     print(s[i:w+i])\n",
    "if __name__ == '__main__':\n",
    "    string, max_width = input(), int(input())\n",
    "    result = wrap(string, max_width)\n",
    "    print(result)"
   ]
  },
  {
   "cell_type": "code",
   "execution_count": null,
   "metadata": {},
   "outputs": [],
   "source": []
  }
 ],
 "metadata": {
  "kernelspec": {
   "display_name": "Python 3",
   "language": "python",
   "name": "python3"
  },
  "language_info": {
   "codemirror_mode": {
    "name": "ipython",
    "version": 3
   },
   "file_extension": ".py",
   "mimetype": "text/x-python",
   "name": "python",
   "nbconvert_exporter": "python",
   "pygments_lexer": "ipython3",
   "version": "3.7.3"
  }
 },
 "nbformat": 4,
 "nbformat_minor": 2
}
